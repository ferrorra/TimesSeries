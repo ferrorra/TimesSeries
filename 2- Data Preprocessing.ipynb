{
 "cells": [
  {
   "cell_type": "code",
   "execution_count": null,
   "metadata": {},
   "outputs": [],
   "source": [
    "- Clean up any outliers or missing values if needed\n",
    "- Smooth your time series and compare with the original\n",
    "- Calculate the autocorrelation function (ACF) of your smoothed time series.\n",
    "This will give you an idea of how well your smoothing technique is doing at removing noise from your data.\n",
    "The ACF should be close to zero for lags greater than the smoothing window, as this indicates that the signal has been effectively removed by\n",
    "If the ACF plot shows significant lags, it may be worth trying a different smoothing method.\n"
   ]
  },
  {
   "cell_type": "code",
   "execution_count": null,
   "metadata": {},
   "outputs": [],
   "source": [
    "for missing vals : imputation, inerpolation"
   ]
  },
  {
   "cell_type": "code",
   "execution_count": null,
   "metadata": {},
   "outputs": [],
   "source": [
    "Now you will be using the smoothed version of cnt: choose the smoothing method and justify your choice.\n",
    "Add the right frequency to your smoothed time series et justify your choices\n",
    "What could you tell about this new time series in term of stationarity and seasonality? Justify your conclusions."
   ]
  },
  {
   "cell_type": "code",
   "execution_count": 2,
   "metadata": {},
   "outputs": [],
   "source": [
    "import numpy as np \n",
    "import matplotlib.pyplot as plt \n",
    "import pandas as pd \n",
    "import seaborn as sns \n",
    "\n",
    "from sklearn import metrics\n",
    "from sklearn import preprocessing\n",
    "from sklearn.model_selection import train_test_split\n",
    "from sklearn.model_selection import cross_val_predict\n",
    "from sklearn.model_selection import cross_val_score"
   ]
  },
  {
   "cell_type": "code",
   "execution_count": 4,
   "metadata": {},
   "outputs": [],
   "source": [
    "data = pd.read_csv('bike+sharing+dataset/hour.csv')"
   ]
  },
  {
   "cell_type": "code",
   "execution_count": null,
   "metadata": {},
   "outputs": [],
   "source": [
    "data['dteday'] = pd.to_datetime(data['dteday'])\n",
    "data['season'] = data.season.astype('category')\n",
    "data['mnth'] = data.mnth.astype('category')\n",
    "data['holiday'] = data.holiday.astype('category')\n",
    "data['weekday'] = data.weekday.astype('category')\n",
    "data['workingday'] = data.workingday.astype('category')\n",
    "data['weathersit'] = data.weathersit.astype('category')\n"
   ]
  }
 ],
 "metadata": {
  "kernelspec": {
   "display_name": "basee",
   "language": "python",
   "name": "python3"
  },
  "language_info": {
   "codemirror_mode": {
    "name": "ipython",
    "version": 3
   },
   "file_extension": ".py",
   "mimetype": "text/x-python",
   "name": "python",
   "nbconvert_exporter": "python",
   "pygments_lexer": "ipython3",
   "version": "3.10.13"
  }
 },
 "nbformat": 4,
 "nbformat_minor": 2
}
