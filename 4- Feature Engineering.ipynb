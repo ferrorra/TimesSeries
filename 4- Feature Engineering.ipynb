{
 "cells": [
  {
   "cell_type": "code",
   "execution_count": null,
   "metadata": {},
   "outputs": [],
   "source": [
    "TFD\n",
    "\n",
    "SSA ALGO \n",
    "\n",
    "ADD TIME AS PREDICTOR ?\n",
    "\n",
    "FRAGMENT FEATURES \n",
    "\n",
    "MOYENNE MOBILE \n",
    "\n",
    "K SEQ : SPADE GSP PREFIXSPAN \n",
    "\n"
   ]
  }
 ],
 "metadata": {
  "language_info": {
   "name": "python"
  }
 },
 "nbformat": 4,
 "nbformat_minor": 2
}
