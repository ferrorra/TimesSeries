{
 "cells": [
  {
   "cell_type": "code",
   "execution_count": null,
   "metadata": {},
   "outputs": [],
   "source": [
    "#### Approche prof"
   ]
  },
  {
   "cell_type": "code",
   "execution_count": null,
   "metadata": {},
   "outputs": [],
   "source": [
    "Could you model the smoothed time series using ARIMA model:\n",
    "What are the candidate model\n",
    "Choose your model and justify your choice\n",
    "Forecasting with ARIMA Models\n",
    "Fit an ARIMA model on de-seasonal cnt (remove the season of cnt before fitting the model)\n",
    "What are the candidate models? What is your best model? Justify your choices\n",
    "What is your conclusion?\n",
    "Fit an ARIMA with Auto-ARIMA\n",
    "Use auto.arima() function to fit an ARIMA model of de-seasonal cnt\n",
    "Check residuals, What are your conclusions?\n",
    "Evaluate and iterate\n",
    "If there are visible patterns or bias, plot ACF/PACF. Are any additional order parameters needed?\n",
    "Refit model if needed. Compare model errors and fit criteria such as AIC or BIC.\n",
    "Calculate forecast using the chosen model\n",
    "plot both the original and the forecasted time series\n",
    "Forecasting"
   ]
  },
  {
   "cell_type": "code",
   "execution_count": null,
   "metadata": {},
   "outputs": [],
   "source": [
    "Split the data into training and test times series (test starting at observation 700, use function window)\n",
    "\n",
    "fit an Arima model, manually and with Auto-Arima on the training part\n",
    "forecast the next 25 observation and plot the original ts and the forecasted one.\n",
    "What do you observe?"
   ]
  },
  {
   "cell_type": "code",
   "execution_count": null,
   "metadata": {},
   "outputs": [],
   "source": [
    "### mes approches "
   ]
  },
  {
   "cell_type": "code",
   "execution_count": null,
   "metadata": {},
   "outputs": [],
   "source": [
    "modele non lineaire : ARCH VAR"
   ]
  },
  {
   "cell_type": "code",
   "execution_count": null,
   "metadata": {},
   "outputs": [],
   "source": [
    "Non parametriques : Filtres de Kalman, Ondelettes "
   ]
  },
  {
   "cell_type": "code",
   "execution_count": null,
   "metadata": {},
   "outputs": [],
   "source": [
    "Sequence mining bruh ?"
   ]
  },
  {
   "cell_type": "code",
   "execution_count": null,
   "metadata": {},
   "outputs": [],
   "source": []
  }
 ],
 "metadata": {
  "language_info": {
   "name": "python"
  }
 },
 "nbformat": 4,
 "nbformat_minor": 2
}
